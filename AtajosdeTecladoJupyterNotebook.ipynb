{
 "cells": [
  {
   "cell_type": "markdown",
   "id": "ddc4141b-1975-4ba1-b2d8-60631384a5e6",
   "metadata": {},
   "source": [
    "# Atajos de teclado"
   ]
  },
  {
   "cell_type": "markdown",
   "id": "2b75a000-f926-4141-9e16-3673a3b41a06",
   "metadata": {},
   "source": [
    " - Doble click (o <kbd>Enter</kbd>) en una celda para entrar en modo de edición\n",
    " - <kbd>Esc</kbd> para salir de modo de edición y entrar en modo comandos\n",
    " - <kbd>Ctrl</kbd> + <kbd>Enter</kbd> ejecuta la celda actual (y permanece en esta)\n",
    " - <kbd>Shift</kbd> + <kbd>Enter</kbd> ejecuta la celda actual y avanza a la siguiente\n",
    " - <kbd>Alt</kbd> + <kbd>Enter</kbd> ejecuta la celda actual y crea una nueva justo debajo de la actual\n",
    " - En modo comandos:\n",
    "     - <kbd>⬆</kbd> y <kbd>⬇</kbd> para navegar entre celdas\n",
    "     - <kbd>M</kbd> para cambiar una celda a *markdown*\n",
    "     - <kbd>Y</kbd> para cambiar una celda a código\n",
    "     - <kbd>D</kbd> + <kbd>D</kbd> para eliminar una celda\n",
    "     - <kbd>Z</kbd> para deshacer cambios a las celdas\n",
    "     - <kbd>A</kbd> agrega una celda arriba de la actual\n",
    "     - <kbd>B</kbd> agrega una celda debajo de la actual\n",
    "     \n",
    "     \n",
    "     \n",
    "                                                                             \n"
   ]
  },
  {
   "cell_type": "markdown",
   "id": "cf446f8e-1016-4d23-99a5-7466ebd25aa9",
   "metadata": {},
   "source": [
    "                                                                Fuente: Feregrino – That C# guy                                                   "
   ]
  }
 ],
 "metadata": {
  "kernelspec": {
   "display_name": "Python 3 (ipykernel)",
   "language": "python",
   "name": "python3"
  },
  "language_info": {
   "codemirror_mode": {
    "name": "ipython",
    "version": 3
   },
   "file_extension": ".py",
   "mimetype": "text/x-python",
   "name": "python",
   "nbconvert_exporter": "python",
   "pygments_lexer": "ipython3",
   "version": "3.9.13"
  }
 },
 "nbformat": 4,
 "nbformat_minor": 5
}
